{
  "nbformat": 4,
  "nbformat_minor": 0,
  "metadata": {
    "colab": {
      "provenance": [],
      "collapsed_sections": [],
      "authorship_tag": "ABX9TyP8C4dJf0oSaABXc65epFzW",
      "include_colab_link": true
    },
    "kernelspec": {
      "name": "python3",
      "display_name": "Python 3"
    },
    "language_info": {
      "name": "python"
    }
  },
  "cells": [
    {
      "cell_type": "markdown",
      "metadata": {
        "id": "view-in-github",
        "colab_type": "text"
      },
      "source": [
        "<a href=\"https://colab.research.google.com/github/YongWanJin/KDTteam5_semiproject/blob/main/%EC%A0%84%EC%B2%98%EB%A6%AC_%EC%A2%8C%ED%91%9C%EC%88%98%EC%A0%95.ipynb\" target=\"_parent\"><img src=\"https://colab.research.google.com/assets/colab-badge.svg\" alt=\"Open In Colab\"/></a>"
      ]
    },
    {
      "cell_type": "code",
      "source": [
        "# 도움을 준 사이트 : https://wooiljeong.github.io/python/transform_coord/\n",
        "\n",
        "### 좌표계 변환에 필요한 패키지 pyproj 설치\n",
        "!pip install pyproj"
      ],
      "metadata": {
        "colab": {
          "base_uri": "https://localhost:8080/"
        },
        "id": "2atlai9hCXBZ",
        "outputId": "2202f97c-b94e-47a8-a3c0-79a284004934"
      },
      "execution_count": 2,
      "outputs": [
        {
          "output_type": "stream",
          "name": "stdout",
          "text": [
            "Looking in indexes: https://pypi.org/simple, https://us-python.pkg.dev/colab-wheels/public/simple/\n",
            "Collecting pyproj\n",
            "  Downloading pyproj-3.2.1-cp37-cp37m-manylinux2010_x86_64.whl (6.3 MB)\n",
            "\u001b[K     |████████████████████████████████| 6.3 MB 6.7 MB/s \n",
            "\u001b[?25hRequirement already satisfied: certifi in /usr/local/lib/python3.7/dist-packages (from pyproj) (2022.6.15)\n",
            "Installing collected packages: pyproj\n",
            "Successfully installed pyproj-3.2.1\n"
          ]
        }
      ]
    },
    {
      "cell_type": "code",
      "source": [
        "### 로컬 폴더에서 colab으로 파일 불러오기\n",
        "# 사용한 데이터 : 서울시 우리마을가게 상권분석서비스(상권영역).csv\n",
        "\n",
        "from google.colab import files\n",
        "uploaded = files.upload()"
      ],
      "metadata": {
        "colab": {
          "resources": {
            "http://localhost:8080/nbextensions/google.colab/files.js": {
              "data": "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",
              "ok": true,
              "headers": [
                [
                  "content-type",
                  "application/javascript"
                ]
              ],
              "status": 200,
              "status_text": ""
            }
          },
          "base_uri": "https://localhost:8080/",
          "height": 77
        },
        "id": "LfhNM4EXCe0p",
        "outputId": "a68ea35e-3dbd-4fcc-8006-3b203a520bfc"
      },
      "execution_count": 4,
      "outputs": [
        {
          "output_type": "display_data",
          "data": {
            "text/plain": [
              "<IPython.core.display.HTML object>"
            ],
            "text/html": [
              "\n",
              "     <input type=\"file\" id=\"files-9e19f6b0-93db-44e0-948b-9354db8a1194\" name=\"files[]\" multiple disabled\n",
              "        style=\"border:none\" />\n",
              "     <output id=\"result-9e19f6b0-93db-44e0-948b-9354db8a1194\">\n",
              "      Upload widget is only available when the cell has been executed in the\n",
              "      current browser session. Please rerun this cell to enable.\n",
              "      </output>\n",
              "      <script src=\"/nbextensions/google.colab/files.js\"></script> "
            ]
          },
          "metadata": {}
        },
        {
          "output_type": "stream",
          "name": "stdout",
          "text": [
            "Saving 서울시 우리마을가게 상권분석서비스(상권영역).csv to 서울시 우리마을가게 상권분석서비스(상권영역).csv\n"
          ]
        }
      ]
    },
    {
      "cell_type": "code",
      "source": [
        "### colab으로 불러온 파일을 데이터프레임df에 저장 & 필요한 모듈 불러오기\n",
        "\n",
        "import pandas as pd\n",
        "import numpy as np\n",
        "import pyproj\n",
        "import folium\n",
        "import io\n",
        "\n",
        "df = pd.read_csv(io.StringIO(uploaded['서울시 우리마을가게 상권분석서비스(상권영역).csv'].decode('CP949')))\n",
        "print(df)\n",
        "print(df.info()) # '엑스좌표_값'과 '와이좌표_값'이 이미 int형으로 되어있음, 따로 전처리해줄 필요 없음"
      ],
      "metadata": {
        "colab": {
          "base_uri": "https://localhost:8080/"
        },
        "id": "Uky-t9WKCzo5",
        "outputId": "8c4d7cd1-8752-453c-d823-3f2a0c7049e1"
      },
      "execution_count": 7,
      "outputs": [
        {
          "output_type": "stream",
          "name": "stdout",
          "text": [
            "      기준_년월_코드 상권_구분_코드 상권_구분_코드_명    상권_코드       상권_코드_명  엑스좌표_값  와이좌표_값  \\\n",
            "0       202112        A       골목상권  2110753   시흥동 은행나무사거리  191934  438813   \n",
            "1       202112        A       골목상권  2110427    노원 을지대학교병원  206265  459431   \n",
            "2       202112        A       골목상권  2110755      동일여자고등학교  192300  439070   \n",
            "3       202112        A       골목상권  2110739    시흥3동 우편취급국  191289  438014   \n",
            "4       202112        A       골목상권  2111017      송파나루역 3번  210222  445516   \n",
            "...        ...      ...        ...      ...           ...     ...     ...   \n",
            "1666    202112        U       관광특구  1001493  동대문패션타운 관광특구  200974  451975   \n",
            "1667    202112        U       관광특구  1001494    종로?청계 관광특구  199768  452273   \n",
            "1668    202112        U       관광특구  1001495       잠실 관광특구  210191  446339   \n",
            "1669    202112        U       관광특구  1001496   강남 마이스 관광특구  205310  445727   \n",
            "1670    202112        U       관광특구  1001491      이태원 관광특구  199503  448326   \n",
            "\n",
            "      시군구_코드    행정동_코드  형태정보  \n",
            "0      11545  11545710   NaN  \n",
            "1      11350  11350611   NaN  \n",
            "2      11545  11545680   NaN  \n",
            "3      11545  11545690   NaN  \n",
            "4      11710  11710562   NaN  \n",
            "...      ...       ...   ...  \n",
            "1666   11140  11140590   NaN  \n",
            "1667   11110  11110615   NaN  \n",
            "1668   11710  11710566   NaN  \n",
            "1669   11680  11680580   NaN  \n",
            "1670   11170  11170650   NaN  \n",
            "\n",
            "[1671 rows x 10 columns]\n",
            "<class 'pandas.core.frame.DataFrame'>\n",
            "RangeIndex: 1671 entries, 0 to 1670\n",
            "Data columns (total 10 columns):\n",
            " #   Column      Non-Null Count  Dtype  \n",
            "---  ------      --------------  -----  \n",
            " 0   기준_년월_코드    1671 non-null   int64  \n",
            " 1   상권_구분_코드    1671 non-null   object \n",
            " 2   상권_구분_코드_명  1671 non-null   object \n",
            " 3   상권_코드       1671 non-null   int64  \n",
            " 4   상권_코드_명     1671 non-null   object \n",
            " 5   엑스좌표_값      1671 non-null   int64  \n",
            " 6   와이좌표_값      1671 non-null   int64  \n",
            " 7   시군구_코드      1671 non-null   int64  \n",
            " 8   행정동_코드      1671 non-null   int64  \n",
            " 9   형태정보        0 non-null      float64\n",
            "dtypes: float64(1), int64(6), object(3)\n",
            "memory usage: 130.7+ KB\n",
            "None\n"
          ]
        }
      ]
    },
    {
      "cell_type": "code",
      "source": [
        "### 엑스좌표값, 와이좌표값만 추출\n",
        "\n",
        "coord_x = df[['엑스좌표_값']]\n",
        "coord_y = df[['와이좌표_값']]\n",
        "coord = pd.concat([coord_x, coord_y], axis=1)\n",
        "\n",
        "print(coord)"
      ],
      "metadata": {
        "colab": {
          "base_uri": "https://localhost:8080/"
        },
        "id": "fBphX3I9Ei9N",
        "outputId": "fc9bbe33-c0fc-452f-e8a9-893445312dcf"
      },
      "execution_count": 9,
      "outputs": [
        {
          "output_type": "stream",
          "name": "stdout",
          "text": [
            "      엑스좌표_값  와이좌표_값\n",
            "0     191934  438813\n",
            "1     206265  459431\n",
            "2     192300  439070\n",
            "3     191289  438014\n",
            "4     210222  445516\n",
            "...      ...     ...\n",
            "1666  200974  451975\n",
            "1667  199768  452273\n",
            "1668  210191  446339\n",
            "1669  205310  445727\n",
            "1670  199503  448326\n",
            "\n",
            "[1671 rows x 2 columns]\n"
          ]
        }
      ]
    },
    {
      "cell_type": "code",
      "source": [
        "### 원본의 좌표계를 시각화 가능한 좌표계로 변환하기 위한 함수 정의\n",
        "\n",
        "def coord_transfer(coord, p1_type, p2_type) :\n",
        "\n",
        "  #coord: x, y 좌표 정보가 담긴 NumPy Array\n",
        "  #p1_type: 입력 좌표계 정보 ex) 원본 자료의 좌표계 종류는 epsg:5181 라고 함.\n",
        "  #p2_type: 출력 좌표계 정보 ex) 시각화할때 쓰는 좌표게 종류는 epsg:4326\n",
        "\n",
        "  p1 = pyproj.Proj(init=p1_type)\n",
        "  p2 = pyproj.Proj(init=p2_type)\n",
        "  fx, fy = pyproj.transform(p1, p2, coord[:, 0], coord[:, 1])\n",
        "\n",
        "  return np.dstack([fx, fy])[0]\n"
      ],
      "metadata": {
        "id": "QMJr_QZuDRvG"
      },
      "execution_count": 13,
      "outputs": []
    },
    {
      "cell_type": "code",
      "source": [
        "### 좌표계 변환 실시\n",
        "\n",
        "coord = np.array(coord) # 함수에 적용하기 위해 데이터프레임'coord'의 타입을 np.array로 변환\n",
        "p1_type = 'epsg:5181'\n",
        "p2_type = 'epsg:4326'\n",
        "\n",
        "result = coord_transfer(coord, p1_type, p2_type)\n",
        "print(result)"
      ],
      "metadata": {
        "colab": {
          "base_uri": "https://localhost:8080/"
        },
        "id": "Vkhk5bs6HI6Q",
        "outputId": "c88b325f-111f-4e9b-cf64-5d3697579d8b"
      },
      "execution_count": 14,
      "outputs": [
        {
          "output_type": "stream",
          "name": "stdout",
          "text": [
            "[[126.90884426  37.44868725]\n",
            " [127.07097812  37.63446919]\n",
            " [126.91297783  37.45100597]\n",
            " ...\n",
            " [127.11527495  37.51647607]\n",
            " [127.0600594   37.51100291]\n",
            " [126.99437686  37.53443511]]\n"
          ]
        },
        {
          "output_type": "stream",
          "name": "stderr",
          "text": [
            "/usr/local/lib/python3.7/dist-packages/pyproj/crs/crs.py:131: FutureWarning: '+init=<authority>:<code>' syntax is deprecated. '<authority>:<code>' is the preferred initialization method. When making the change, be mindful of axis order changes: https://pyproj4.github.io/pyproj/stable/gotchas.html#axis-order-changes-in-proj-6\n",
            "  in_crs_string = _prepare_from_proj_string(in_crs_string)\n",
            "/usr/local/lib/python3.7/dist-packages/pyproj/crs/crs.py:131: FutureWarning: '+init=<authority>:<code>' syntax is deprecated. '<authority>:<code>' is the preferred initialization method. When making the change, be mindful of axis order changes: https://pyproj4.github.io/pyproj/stable/gotchas.html#axis-order-changes-in-proj-6\n",
            "  in_crs_string = _prepare_from_proj_string(in_crs_string)\n",
            "/usr/local/lib/python3.7/dist-packages/ipykernel_launcher.py:11: DeprecationWarning: This function is deprecated. See: https://pyproj4.github.io/pyproj/stable/gotchas.html#upgrading-to-pyproj-2-from-pyproj-1\n",
            "  # This is added back by InteractiveShellApp.init_path()\n"
          ]
        }
      ]
    },
    {
      "cell_type": "code",
      "source": [
        "### 변환된 좌표계를 원본 데이터 df에 추가\n",
        "\n",
        "df['경도'] = result[:,0]\n",
        "df['위도'] = result[:,1]\n",
        "print(df)"
      ],
      "metadata": {
        "colab": {
          "base_uri": "https://localhost:8080/"
        },
        "id": "a-fx5lDYH06e",
        "outputId": "1573d25a-27bf-4ab9-c2c4-05379500db2d"
      },
      "execution_count": 15,
      "outputs": [
        {
          "output_type": "stream",
          "name": "stdout",
          "text": [
            "      기준_년월_코드 상권_구분_코드 상권_구분_코드_명    상권_코드       상권_코드_명  엑스좌표_값  와이좌표_값  \\\n",
            "0       202112        A       골목상권  2110753   시흥동 은행나무사거리  191934  438813   \n",
            "1       202112        A       골목상권  2110427    노원 을지대학교병원  206265  459431   \n",
            "2       202112        A       골목상권  2110755      동일여자고등학교  192300  439070   \n",
            "3       202112        A       골목상권  2110739    시흥3동 우편취급국  191289  438014   \n",
            "4       202112        A       골목상권  2111017      송파나루역 3번  210222  445516   \n",
            "...        ...      ...        ...      ...           ...     ...     ...   \n",
            "1666    202112        U       관광특구  1001493  동대문패션타운 관광특구  200974  451975   \n",
            "1667    202112        U       관광특구  1001494    종로?청계 관광특구  199768  452273   \n",
            "1668    202112        U       관광특구  1001495       잠실 관광특구  210191  446339   \n",
            "1669    202112        U       관광특구  1001496   강남 마이스 관광특구  205310  445727   \n",
            "1670    202112        U       관광특구  1001491      이태원 관광특구  199503  448326   \n",
            "\n",
            "      시군구_코드    행정동_코드  형태정보          경도         위도  \n",
            "0      11545  11545710   NaN  126.908844  37.448687  \n",
            "1      11350  11350611   NaN  127.070978  37.634469  \n",
            "2      11545  11545680   NaN  126.912978  37.451006  \n",
            "3      11545  11545690   NaN  126.901564  37.441482  \n",
            "4      11710  11710562   NaN  127.115614  37.509060  \n",
            "...      ...       ...   ...         ...        ...  \n",
            "1666   11140  11140590   NaN  127.011025  37.567312  \n",
            "1667   11110  11110615   NaN  126.997374  37.569998  \n",
            "1668   11710  11710566   NaN  127.115275  37.516476  \n",
            "1669   11680  11680580   NaN  127.060059  37.511003  \n",
            "1670   11170  11170650   NaN  126.994377  37.534435  \n",
            "\n",
            "[1671 rows x 12 columns]\n"
          ]
        }
      ]
    },
    {
      "cell_type": "code",
      "source": [
        "### 잘 되나 테스트\n",
        "\n",
        "sample = df.sample(n=10) # 임의로 10개 뽑아봄\n",
        "lat_c, lon_c = 37.53165351203043, 126.9974246490573\n",
        "m = folium.Map(location=[lat_c, lon_c], zoom_start=6)\n",
        "for _, row in sample.iterrows():\n",
        "    lat, lon = row['위도'], row['경도']\n",
        "    folium.Marker(location=[lat, lon]).add_to(m)\n",
        "m"
      ],
      "metadata": {
        "id": "70D8C7qOIoXc"
      },
      "execution_count": null,
      "outputs": []
    },
    {
      "cell_type": "code",
      "source": [
        "### colab에 저장, 다운로드 할수 있는 상태가 됨.\n",
        "\n",
        "df.to_csv('directory\\상권영역_위도경도추가.csv')\n",
        "\n",
        "# 이제 이 데이터를 가지고 시각화를 할 수 있게됨."
      ],
      "metadata": {
        "id": "WWX0nwSGJXqr"
      },
      "execution_count": 17,
      "outputs": []
    }
  ]
}